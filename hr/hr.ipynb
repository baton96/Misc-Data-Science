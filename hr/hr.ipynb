{
 "cells": [
  {
   "cell_type": "code",
   "execution_count": 1,
   "outputs": [],
   "source": [
    "# Imports\n",
    "from imblearn.ensemble import BalancedRandomForestClassifier\n",
    "from sklearn.model_selection import cross_val_score\n",
    "# from lightgbm import LGBMClassifier\n",
    "import pandas as pd"
   ],
   "metadata": {
    "collapsed": false
   }
  },
  {
   "cell_type": "code",
   "execution_count": 2,
   "outputs": [
    {
     "data": {
      "text/plain": "   employee_id         department     region         education gender  \\\n0        65438  Sales & Marketing   region_7  Master's & above      f   \n1        65141         Operations  region_22        Bachelor's      m   \n2         7513  Sales & Marketing  region_19        Bachelor's      m   \n3         2542  Sales & Marketing  region_23        Bachelor's      m   \n4        48945         Technology  region_26        Bachelor's      m   \n\n  recruitment_channel  no_of_trainings  age  previous_year_rating  \\\n0            sourcing                1   35                   5.0   \n1               other                1   30                   5.0   \n2            sourcing                1   34                   3.0   \n3               other                2   39                   1.0   \n4               other                1   45                   3.0   \n\n   length_of_service  awards_won?  avg_training_score  is_promoted  \n0                  8            0                  49            0  \n1                  4            0                  60            0  \n2                  7            0                  50            0  \n3                 10            0                  50            0  \n4                  2            0                  73            0  ",
      "text/html": "<div>\n<style scoped>\n    .dataframe tbody tr th:only-of-type {\n        vertical-align: middle;\n    }\n\n    .dataframe tbody tr th {\n        vertical-align: top;\n    }\n\n    .dataframe thead th {\n        text-align: right;\n    }\n</style>\n<table border=\"1\" class=\"dataframe\">\n  <thead>\n    <tr style=\"text-align: right;\">\n      <th></th>\n      <th>employee_id</th>\n      <th>department</th>\n      <th>region</th>\n      <th>education</th>\n      <th>gender</th>\n      <th>recruitment_channel</th>\n      <th>no_of_trainings</th>\n      <th>age</th>\n      <th>previous_year_rating</th>\n      <th>length_of_service</th>\n      <th>awards_won?</th>\n      <th>avg_training_score</th>\n      <th>is_promoted</th>\n    </tr>\n  </thead>\n  <tbody>\n    <tr>\n      <th>0</th>\n      <td>65438</td>\n      <td>Sales &amp; Marketing</td>\n      <td>region_7</td>\n      <td>Master's &amp; above</td>\n      <td>f</td>\n      <td>sourcing</td>\n      <td>1</td>\n      <td>35</td>\n      <td>5.0</td>\n      <td>8</td>\n      <td>0</td>\n      <td>49</td>\n      <td>0</td>\n    </tr>\n    <tr>\n      <th>1</th>\n      <td>65141</td>\n      <td>Operations</td>\n      <td>region_22</td>\n      <td>Bachelor's</td>\n      <td>m</td>\n      <td>other</td>\n      <td>1</td>\n      <td>30</td>\n      <td>5.0</td>\n      <td>4</td>\n      <td>0</td>\n      <td>60</td>\n      <td>0</td>\n    </tr>\n    <tr>\n      <th>2</th>\n      <td>7513</td>\n      <td>Sales &amp; Marketing</td>\n      <td>region_19</td>\n      <td>Bachelor's</td>\n      <td>m</td>\n      <td>sourcing</td>\n      <td>1</td>\n      <td>34</td>\n      <td>3.0</td>\n      <td>7</td>\n      <td>0</td>\n      <td>50</td>\n      <td>0</td>\n    </tr>\n    <tr>\n      <th>3</th>\n      <td>2542</td>\n      <td>Sales &amp; Marketing</td>\n      <td>region_23</td>\n      <td>Bachelor's</td>\n      <td>m</td>\n      <td>other</td>\n      <td>2</td>\n      <td>39</td>\n      <td>1.0</td>\n      <td>10</td>\n      <td>0</td>\n      <td>50</td>\n      <td>0</td>\n    </tr>\n    <tr>\n      <th>4</th>\n      <td>48945</td>\n      <td>Technology</td>\n      <td>region_26</td>\n      <td>Bachelor's</td>\n      <td>m</td>\n      <td>other</td>\n      <td>1</td>\n      <td>45</td>\n      <td>3.0</td>\n      <td>2</td>\n      <td>0</td>\n      <td>73</td>\n      <td>0</td>\n    </tr>\n  </tbody>\n</table>\n</div>"
     },
     "execution_count": 2,
     "metadata": {},
     "output_type": "execute_result"
    }
   ],
   "source": [
    "# Read data and display sample\n",
    "df = pd.read_csv('hr.csv')\n",
    "df.head()"
   ],
   "metadata": {
    "collapsed": false
   }
  },
  {
   "cell_type": "code",
   "execution_count": 3,
   "outputs": [],
   "source": [
    "# Drop redundant employee_id column\n",
    "df = df.drop(columns=['employee_id'])"
   ],
   "metadata": {
    "collapsed": false
   }
  },
  {
   "cell_type": "code",
   "execution_count": 4,
   "outputs": [
    {
     "name": "stdout",
     "output_type": "stream",
     "text": [
      "Sales & Marketing    16840\n",
      "Operations           11348\n",
      "Technology            7138\n",
      "Procurement           7138\n",
      "Analytics             5352\n",
      "Finance               2536\n",
      "HR                    2418\n",
      "Legal                 1039\n",
      "R&D                    999\n",
      "Name: department, dtype: int64\n",
      "\n",
      "Bachelor's          36669\n",
      "Master's & above    14925\n",
      "NaN                  2409\n",
      "Below Secondary       805\n",
      "Name: education, dtype: int64\n",
      "\n",
      "m    38496\n",
      "f    16312\n",
      "Name: gender, dtype: int64\n",
      "\n",
      "other       30446\n",
      "sourcing    23220\n",
      "referred     1142\n",
      "Name: recruitment_channel, dtype: int64\n",
      "\n",
      "1     44378\n",
      "2      7987\n",
      "3      1776\n",
      "4       468\n",
      "5       128\n",
      "6        44\n",
      "7        12\n",
      "8         5\n",
      "10        5\n",
      "9         5\n",
      "Name: no_of_trainings, dtype: int64\n",
      "\n",
      "0    53538\n",
      "1     1270\n",
      "Name: awards_won?, dtype: int64\n",
      "\n",
      "0    50140\n",
      "1     4668\n",
      "Name: is_promoted, dtype: int64\n",
      "\n",
      "3.0    18618\n",
      "5.0    11741\n",
      "4.0     9877\n",
      "1.0     6223\n",
      "2.0     4225\n",
      "NaN     4124\n",
      "Name: previous_year_rating, dtype: int64\n",
      "\n"
     ]
    }
   ],
   "source": [
    "# Initial Exploratory Data Analysis\n",
    "for col in ['department', 'education', 'gender', 'recruitment_channel', 'no_of_trainings', 'awards_won?', 'is_promoted', 'previous_year_rating']:\n",
    "    print(df[col].value_counts(dropna=False))\n",
    "    print()"
   ],
   "metadata": {
    "collapsed": false
   }
  },
  {
   "cell_type": "code",
   "execution_count": 5,
   "outputs": [
    {
     "name": "stdout",
     "output_type": "stream",
     "text": [
      "education 2409\n",
      "previous_year_rating 4124\n"
     ]
    }
   ],
   "source": [
    "# Check for nulls in columns\n",
    "for col in df.columns:\n",
    "    null_count = df[col].isnull().sum()\n",
    "    if null_count:\n",
    "        print(col, null_count)"
   ],
   "metadata": {
    "collapsed": false
   }
  },
  {
   "cell_type": "code",
   "execution_count": 6,
   "outputs": [
    {
     "data": {
      "text/plain": "   no_of_trainings  age  previous_year_rating  length_of_service  awards_won?  \\\n0                1   35                   5.0                  8            0   \n1                1   30                   5.0                  4            0   \n2                1   34                   3.0                  7            0   \n3                2   39                   1.0                 10            0   \n4                1   45                   3.0                  2            0   \n\n   avg_training_score  is_promoted  no_education  department_Analytics  \\\n0                  49            0         False                     0   \n1                  60            0         False                     0   \n2                  50            0         False                     0   \n3                  50            0         False                     0   \n4                  73            0         False                     0   \n\n   department_Finance  ...  region_region_9  recruitment_channel_other  \\\n0                   0  ...                0                          0   \n1                   0  ...                0                          1   \n2                   0  ...                0                          0   \n3                   0  ...                0                          1   \n4                   0  ...                0                          1   \n\n   recruitment_channel_referred  recruitment_channel_sourcing  gender_f  \\\n0                             0                             1         1   \n1                             0                             0         0   \n2                             0                             1         0   \n3                             0                             0         0   \n4                             0                             0         0   \n\n   gender_m  education_0  education_1  education_2  education_3  \n0         0            0            0            0            1  \n1         1            0            0            1            0  \n2         1            0            0            1            0  \n3         1            0            0            1            0  \n4         1            0            0            1            0  \n\n[5 rows x 60 columns]",
      "text/html": "<div>\n<style scoped>\n    .dataframe tbody tr th:only-of-type {\n        vertical-align: middle;\n    }\n\n    .dataframe tbody tr th {\n        vertical-align: top;\n    }\n\n    .dataframe thead th {\n        text-align: right;\n    }\n</style>\n<table border=\"1\" class=\"dataframe\">\n  <thead>\n    <tr style=\"text-align: right;\">\n      <th></th>\n      <th>no_of_trainings</th>\n      <th>age</th>\n      <th>previous_year_rating</th>\n      <th>length_of_service</th>\n      <th>awards_won?</th>\n      <th>avg_training_score</th>\n      <th>is_promoted</th>\n      <th>no_education</th>\n      <th>department_Analytics</th>\n      <th>department_Finance</th>\n      <th>...</th>\n      <th>region_region_9</th>\n      <th>recruitment_channel_other</th>\n      <th>recruitment_channel_referred</th>\n      <th>recruitment_channel_sourcing</th>\n      <th>gender_f</th>\n      <th>gender_m</th>\n      <th>education_0</th>\n      <th>education_1</th>\n      <th>education_2</th>\n      <th>education_3</th>\n    </tr>\n  </thead>\n  <tbody>\n    <tr>\n      <th>0</th>\n      <td>1</td>\n      <td>35</td>\n      <td>5.0</td>\n      <td>8</td>\n      <td>0</td>\n      <td>49</td>\n      <td>0</td>\n      <td>False</td>\n      <td>0</td>\n      <td>0</td>\n      <td>...</td>\n      <td>0</td>\n      <td>0</td>\n      <td>0</td>\n      <td>1</td>\n      <td>1</td>\n      <td>0</td>\n      <td>0</td>\n      <td>0</td>\n      <td>0</td>\n      <td>1</td>\n    </tr>\n    <tr>\n      <th>1</th>\n      <td>1</td>\n      <td>30</td>\n      <td>5.0</td>\n      <td>4</td>\n      <td>0</td>\n      <td>60</td>\n      <td>0</td>\n      <td>False</td>\n      <td>0</td>\n      <td>0</td>\n      <td>...</td>\n      <td>0</td>\n      <td>1</td>\n      <td>0</td>\n      <td>0</td>\n      <td>0</td>\n      <td>1</td>\n      <td>0</td>\n      <td>0</td>\n      <td>1</td>\n      <td>0</td>\n    </tr>\n    <tr>\n      <th>2</th>\n      <td>1</td>\n      <td>34</td>\n      <td>3.0</td>\n      <td>7</td>\n      <td>0</td>\n      <td>50</td>\n      <td>0</td>\n      <td>False</td>\n      <td>0</td>\n      <td>0</td>\n      <td>...</td>\n      <td>0</td>\n      <td>0</td>\n      <td>0</td>\n      <td>1</td>\n      <td>0</td>\n      <td>1</td>\n      <td>0</td>\n      <td>0</td>\n      <td>1</td>\n      <td>0</td>\n    </tr>\n    <tr>\n      <th>3</th>\n      <td>2</td>\n      <td>39</td>\n      <td>1.0</td>\n      <td>10</td>\n      <td>0</td>\n      <td>50</td>\n      <td>0</td>\n      <td>False</td>\n      <td>0</td>\n      <td>0</td>\n      <td>...</td>\n      <td>0</td>\n      <td>1</td>\n      <td>0</td>\n      <td>0</td>\n      <td>0</td>\n      <td>1</td>\n      <td>0</td>\n      <td>0</td>\n      <td>1</td>\n      <td>0</td>\n    </tr>\n    <tr>\n      <th>4</th>\n      <td>1</td>\n      <td>45</td>\n      <td>3.0</td>\n      <td>2</td>\n      <td>0</td>\n      <td>73</td>\n      <td>0</td>\n      <td>False</td>\n      <td>0</td>\n      <td>0</td>\n      <td>...</td>\n      <td>0</td>\n      <td>1</td>\n      <td>0</td>\n      <td>0</td>\n      <td>0</td>\n      <td>1</td>\n      <td>0</td>\n      <td>0</td>\n      <td>1</td>\n      <td>0</td>\n    </tr>\n  </tbody>\n</table>\n<p>5 rows × 60 columns</p>\n</div>"
     },
     "execution_count": 6,
     "metadata": {},
     "output_type": "execute_result"
    }
   ],
   "source": [
    "# Transform data\n",
    "df['no_education'] = df.education.isna()\n",
    "education_map = {'Below Secondary': 0, 'Secondary': 1, 'Bachelor\\'s': 2, 'Master\\'s & above': 3}\n",
    "df.education = df.education.fillna('Secondary').map(education_map)\n",
    "\n",
    "# df.gender = df.gender == 'm'\n",
    "df.previous_year_rating = df.previous_year_rating.fillna(df.previous_year_rating.median())\n",
    "df = pd.get_dummies(df, columns=['department', 'region', 'recruitment_channel', 'gender', 'education'])\n",
    "df.head()"
   ],
   "metadata": {
    "collapsed": false
   }
  },
  {
   "cell_type": "code",
   "execution_count": 7,
   "outputs": [],
   "source": [
    "# Extract target\n",
    "X, y = df.drop(columns='is_promoted'), df.is_promoted"
   ],
   "metadata": {
    "collapsed": false
   }
  },
  {
   "cell_type": "code",
   "execution_count": 8,
   "outputs": [
    {
     "name": "stdout",
     "output_type": "stream",
     "text": [
      "Cross-validation accuracy:0.733068\n"
     ]
    }
   ],
   "source": [
    "clf = BalancedRandomForestClassifier(n_jobs=-1, random_state=1, min_samples_leaf=2)\n",
    "print(\"Cross-validation accuracy:%f\" % cross_val_score(clf, X, y, scoring='balanced_accuracy').mean())"
   ],
   "metadata": {
    "collapsed": false
   }
  }
 ],
 "metadata": {
  "kernelspec": {
   "display_name": "Python 3",
   "language": "python",
   "name": "python3"
  },
  "language_info": {
   "codemirror_mode": {
    "name": "ipython",
    "version": 2
   },
   "file_extension": ".py",
   "mimetype": "text/x-python",
   "name": "python",
   "nbconvert_exporter": "python",
   "pygments_lexer": "ipython2",
   "version": "2.7.6"
  }
 },
 "nbformat": 4,
 "nbformat_minor": 0
}
